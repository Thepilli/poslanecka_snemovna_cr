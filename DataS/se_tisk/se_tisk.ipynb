{
 "cells": [
  {
   "cell_type": "code",
   "execution_count": null,
   "metadata": {},
   "outputs": [],
   "source": [
    "import pandas as pd\n",
    "    \n",
    "# Specify the file path of the CSV file\n",
    "file_path_se_druh_tisku = \"C:\\\\Users\\\\jirip\\\\Documents\\\\Developer\\\\python\\\\poslanecka_snemovna_cr\\\\DataS\\\\se_druh_tisku\\\\se_druh_tisku.unl\"\n",
    "\n",
    "# Specify the custom headers\n",
    "headers_se_druh_tisku = [\"id_druh\",\"nazev_druhu\"]\n",
    "\n",
    "# Load the CSV file with Windows-1250 encoding and custom headers\n",
    "df = pd.read_csv(file_path_se_druh_tisku, encoding=\"windows-1250\", sep=\"|\", header=None, names=headers_se_druh_tisku,index_col=False)\n"
   ]
  },
  {
   "cell_type": "code",
   "execution_count": null,
   "metadata": {},
   "outputs": [],
   "source": [
    "headers_se_tisk = [\"id_tisk\",\"id_druh\",\"id_stav\",\"cislo_tisku\",\"id_obdobi\",\"anotace\",\"nazev_tisku\"]\n",
    "headers_psp2senat = [\"id_psp\",\"id_senat\",\"typ\"]\n",
    "headers_se_druh_tisku = [\"id_druh\",\"nazev_druhu\"]\n",
    "\n",
    "\n"
   ]
  },
  {
   "cell_type": "code",
   "execution_count": 2,
   "metadata": {},
   "outputs": [
    {
     "name": "stdout",
     "output_type": "stream",
     "text": [
      "loaded psp2senat\n",
      "saved psp2senat\n",
      "loaded se_tisk\n",
      "saved se_tisk\n",
      "loaded se_druh_tisku\n",
      "saved se_druh_tisku\n"
     ]
    }
   ],
   "source": [
    "import pandas as pd\n",
    "\n",
    "# Function to load CSV files into DataFrames\n",
    "def load_csv(file_path, headers):\n",
    "    return pd.read_csv(file_path, encoding=\"windows-1250\", sep=\"|\", header=None, names=headers, index_col=False,low_memory=False)\n",
    "\n",
    "# Function to save DataFrame to a new CSV file\n",
    "def save_csv(data_frame, file_path, headers):\n",
    "    data_frame.to_csv(file_path, header=headers, index=False)\n",
    "\n",
    "\n",
    "headers_se_tisk = [\"id_tisk\",\"id_druh\",\"id_stav\",\"cislo_tisku\",\"id_obdobi\",\"anotace\",\"nazev_tisku\"]\n",
    "headers_psp2senat = [\"id_psp\",\"id_senat\",\"typ\"]\n",
    "headers_se_druh_tisku = [\"id_druh\",\"nazev_druhu\"]\n",
    "\n",
    "\n",
    "\n",
    "\n",
    "\n",
    "\n",
    "# File paths and headers\n",
    "data =[\n",
    "[\"psp2senat\", headers_psp2senat],\n",
    "[\"se_tisk\", headers_se_tisk ],\n",
    "[\"se_druh_tisku\", headers_se_druh_tisku],\n",
    "\n",
    "]\n",
    "\n",
    "\n",
    "# Loop through the data list\n",
    "for name, headers in data:\n",
    "    file_path = f\"C:\\\\Users\\\\jirip\\\\Documents\\\\Developer\\\\python\\\\poslanecka_snemovna_cr\\\\DataS\\\\se_tisk\\\\{name}.unl\"\n",
    "    print(f'loaded {name}')\n",
    "    # Load CSV file into DataFrame\n",
    "    data_frame = load_csv(file_path, headers)\n",
    "\n",
    "    # Perform operations on the DataFrame if needed\n",
    "\n",
    "    # Save the updated DataFrame to a new CSV file\n",
    "    save_csv(data_frame, f\"C:\\\\Users\\\\jirip\\\\Documents\\\\Developer\\\\python\\\\poslanecka_snemovna_cr\\\\DataS\\\\se_tisk\\\\{name}_updated.csv\", headers)\n",
    "    print(f'saved {name}')\n"
   ]
  }
 ],
 "metadata": {
  "kernelspec": {
   "display_name": "Python 3",
   "language": "python",
   "name": "python3"
  },
  "language_info": {
   "codemirror_mode": {
    "name": "ipython",
    "version": 3
   },
   "file_extension": ".py",
   "mimetype": "text/x-python",
   "name": "python",
   "nbconvert_exporter": "python",
   "pygments_lexer": "ipython3",
   "version": "3.12.1"
  }
 },
 "nbformat": 4,
 "nbformat_minor": 2
}
