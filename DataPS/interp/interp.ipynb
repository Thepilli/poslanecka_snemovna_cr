{
 "cells": [
  {
   "cell_type": "code",
   "execution_count": null,
   "metadata": {},
   "outputs": [],
   "source": [
    "import pandas as pd\n",
    "    \n",
    "# Specify the file path of the CSV file\n",
    "file_path_uitypv = \"C:\\\\Users\\\\jirip\\\\Documents\\\\Developer\\\\python\\\\poslanecka_snemovna_cr\\\\DataPS\\\\interp\\\\uitypv.unl\"\n",
    "\n",
    "# Specify the custom headers\n",
    "headers_uitypv = [\"id_ui_stav\",\"nazev\",\"priorita\"]\n",
    "\n",
    "# Load the CSV file with Windows-1250 encoding and custom headers\n",
    "df = pd.read_csv(file_path_uitypv, encoding=\"windows-1250\", sep=\"|\", header=None, names=headers_uitypv,index_col=False)\n"
   ]
  },
  {
   "cell_type": "code",
   "execution_count": null,
   "metadata": {},
   "outputs": [],
   "source": [
    "headers_li = [\"id_los\",\"datum_los\",\"typ_los\",\"cas_los\",\"id_schuze\",\"id_bod\",\"schuze\",\"id_org\"]\n",
    "headers_poradi = [\"id_poradi\",\"id_losovani\",\"id_poslanec\",\"id_ministr\",\"vec\",\"poradi_l\",\"priorita\",\"vec32\"]\n",
    "headers_ui_stav = [\"id_poradi\",\"id_typ\",\"steno\"]\n",
    "headers_uitypv = [\"id_ui_stav\",\"nazev\",\"priorita\"]\n"
   ]
  },
  {
   "cell_type": "code",
   "execution_count": null,
   "metadata": {},
   "outputs": [],
   "source": [
    "data=[\n",
    "[\"uitypv\",headers_uitypv],\n",
    "[\"li\",headers_li],\n",
    "[\"poradi\",headers_poradi],\n",
    "[\"p-stav\",headers_ui_stav]\n",
    "]"
   ]
  },
  {
   "cell_type": "code",
   "execution_count": 1,
   "metadata": {},
   "outputs": [
    {
     "name": "stdout",
     "output_type": "stream",
     "text": [
      "loaded uitypv\n",
      "saved uitypv\n",
      "loaded li\n",
      "saved li\n",
      "loaded poradi\n",
      "saved poradi\n",
      "loaded p-stav\n",
      "saved p-stav\n"
     ]
    }
   ],
   "source": [
    "import pandas as pd\n",
    "\n",
    "# Function to load CSV files into DataFrames\n",
    "def load_csv(file_path, headers):\n",
    "    return pd.read_csv(file_path, encoding=\"windows-1250\", sep=\"|\", header=None, names=headers, index_col=False,low_memory=False)\n",
    "\n",
    "# Function to save DataFrame to a new CSV file\n",
    "def save_csv(data_frame, file_path, headers):\n",
    "    data_frame.to_csv(file_path, header=headers, index=False)\n",
    "\n",
    "\n",
    "headers_li = [\"id_los\",\"datum_los\",\"typ_los\",\"cas_los\",\"id_schuze\",\"id_bod\",\"schuze\",\"id_org\"]\n",
    "headers_poradi = [\"id_poradi\",\"id_losovani\",\"id_poslanec\",\"id_ministr\",\"vec\",\"poradi_l\",\"priorita\",\"vec32\"]\n",
    "headers_ui_stav = [\"id_poradi\",\"id_typ\",\"steno\"]\n",
    "headers_uitypv = [\"id_ui_stav\",\"nazev\",\"priorita\"]\n",
    "\n",
    "\n",
    "\n",
    "# File paths and headers\n",
    "data=[\n",
    "[\"uitypv\",headers_uitypv],\n",
    "[\"li\",headers_li],\n",
    "[\"poradi\",headers_poradi],\n",
    "[\"p-stav\",headers_ui_stav]\n",
    "]\n",
    "\n",
    "\n",
    "# Loop through the data list\n",
    "for name, headers in data:\n",
    "    file_path = f\"C:\\\\Users\\\\jirip\\\\Documents\\\\Developer\\\\python\\\\poslanecka_snemovna_cr\\\\DataPS\\\\interp\\\\{name}.unl\"\n",
    "    print(f'loaded {name}')\n",
    "    # Load CSV file into DataFrame\n",
    "    data_frame = load_csv(file_path, headers)\n",
    "\n",
    "    # Perform operations on the DataFrame if needed\n",
    "\n",
    "    # Save the updated DataFrame to a new CSV file\n",
    "    save_csv(data_frame, f\"C:\\\\Users\\\\jirip\\\\Documents\\\\Developer\\\\python\\\\poslanecka_snemovna_cr\\\\DataPS\\\\interp\\\\{name}_updated.csv\", headers)\n",
    "    print(f'saved {name}')\n"
   ]
  }
 ],
 "metadata": {
  "kernelspec": {
   "display_name": "Python 3",
   "language": "python",
   "name": "python3"
  },
  "language_info": {
   "codemirror_mode": {
    "name": "ipython",
    "version": 3
   },
   "file_extension": ".py",
   "mimetype": "text/x-python",
   "name": "python",
   "nbconvert_exporter": "python",
   "pygments_lexer": "ipython3",
   "version": "3.12.1"
  }
 },
 "nbformat": 4,
 "nbformat_minor": 2
}
