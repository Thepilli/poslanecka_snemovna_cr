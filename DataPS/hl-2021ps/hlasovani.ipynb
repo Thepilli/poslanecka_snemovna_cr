{
 "cells": [
  {
   "cell_type": "code",
   "execution_count": 2,
   "metadata": {},
   "outputs": [],
   "source": [
    "import pandas as pd\n",
    "    \n",
    "# Specify the file path of the CSV file\n",
    "file_path_hl_hlasovani = \"C:\\\\Users\\\\jirip\\\\Documents\\\\Developer\\\\python\\\\poslanecka_snemovna_cr\\\\DataPS\\\\hl-2021ps\\\\hl2021s.unl\"\n",
    "\n",
    "# Specify the custom headers\n",
    "headers_hl_hlasovani = [\"id_hlasovani\",\"id_organ\",\"schuze\",\"cislo\",\"bod\",\"datum\",\"time\",\"pro\",\"proti\",\"zdrzel\",\"nehlasoval\",\"prihlaseno\",\"kvorum\",\"druh_hlasovani\",\"vysledek\",\"nazev_dlouhy\",\"nazev_kratky\"]\n",
    "\n",
    "# Load the CSV file with Windows-1250 encoding and custom headers\n",
    "df = pd.read_csv(file_path_hl_hlasovani, encoding=\"windows-1250\", sep=\"|\", header=None, names=headers_hl_hlasovani,index_col=False)\n",
    "\n",
    "df.to_csv('output.csv', index=False)\n"
   ]
  },
  {
   "cell_type": "code",
   "execution_count": 4,
   "metadata": {},
   "outputs": [],
   "source": [
    "headers_hl_hlasovani = [\"id_hlasovani\",\"id_organ\",\"schuze\",\"cislo\",\"bod\",\"datum\",\"time\",\"pro\",\"proti\",\"zdrzel\",\"nehlasoval\",\"prihlaseno\",\"kvorum\",\"druh_hlasovani\",\"vysledek\",\"nazev_dlouhy\",\"nazev_kratky\"]\n",
    "headers_hl_poslanec = [\"id_poslanec\",\"id_hlasovani\",\"vysledek\"]\n",
    "headers_omluvy = [\"id_organ\",\"cz\",\"id_poslanec\",\"den\",\"od\",\"do\"]\n",
    "headers_hl_check = [\"id_hlasovani\",\"turn\",\"mode\",\"id_h2\",\"id_h3\"]\n",
    "headers_hl_zposlanec = [\"id_hlasovani\",\"id_osoba\",\"mode\"]\n",
    "headers_hl_vazby = [\"id_hlasovani\",\"turn\",\"typ\"]\n",
    "headers_zmatecne = [\"id_hlasovani\"]\n"
   ]
  },
  {
   "cell_type": "code",
   "execution_count": 6,
   "metadata": {},
   "outputs": [],
   "source": [
    "data2 =[\n",
    "[\"hl2021s\", headers_hl_hlasovani],\n",
    "[\"hl2021h1\", headers_hl_poslanec],\n",
    "[\"omluvy\", headers_omluvy],\n",
    "[\"hl2021z\", headers_hl_check],\n",
    "[\"hl2021x\", headers_hl_zposlanec],\n",
    "[\"hl2021v\",headers_hl_vazby],\n",
    "[\"zmatecne\", headers_zmatecne]\n",
    "]"
   ]
  },
  {
   "cell_type": "code",
   "execution_count": 2,
   "metadata": {},
   "outputs": [
    {
     "name": "stdout",
     "output_type": "stream",
     "text": [
      "loaded hl2021s\n",
      "saved hl2021s\n",
      "loaded hl2021h1\n",
      "saved hl2021h1\n",
      "loaded omluvy\n",
      "saved omluvy\n",
      "loaded hl2021s\n",
      "saved hl2021s\n",
      "loaded hl2021x\n",
      "saved hl2021x\n",
      "loaded hl2021v\n",
      "saved hl2021v\n",
      "loaded zmatecne\n",
      "saved zmatecne\n"
     ]
    },
    {
     "name": "stderr",
     "output_type": "stream",
     "text": [
      "C:\\Users\\jirip\\AppData\\Local\\Temp\\ipykernel_21712\\873576096.py:5: ParserWarning: Length of header or names does not match length of data. This leads to a loss of data with index_col=False.\n",
      "  return pd.read_csv(file_path, encoding=\"windows-1250\", sep=\"|\", header=None, names=headers, index_col=False,low_memory=False)\n"
     ]
    }
   ],
   "source": [
    "import pandas as pd\n",
    "\n",
    "# Function to load CSV files into DataFrames\n",
    "def load_csv(file_path, headers):\n",
    "    return pd.read_csv(file_path, encoding=\"windows-1250\", sep=\"|\", header=None, names=headers, index_col=False,low_memory=False)\n",
    "\n",
    "# Function to save DataFrame to a new CSV file\n",
    "def save_csv(data_frame, file_path, headers):\n",
    "    data_frame.to_csv(file_path, header=headers, index=False)\n",
    "\n",
    "\n",
    "headers_hl_hlasovani = [\"id_hlasovani\",\"id_organ\",\"schuze\",\"cislo\",\"bod\",\"datum\",\"time\",\"pro\",\"proti\",\"zdrzel\",\"nehlasoval\",\"prihlaseno\",\"kvorum\",\"druh_hlasovani\",\"vysledek\",\"nazev_dlouhy\",\"nazev_kratky\"]\n",
    "headers_hl_poslanec = [\"id_poslanec\",\"id_hlasovani\",\"vysledek\"]\n",
    "headers_omluvy = [\"id_organ\",\"cz\",\"id_poslanec\",\"den\",\"od\",\"do\"]\n",
    "headers_hl_check = [\"id_hlasovani\",\"turn\",\"mode\",\"id_h2\",\"id_h3\"]\n",
    "headers_hl_zposlanec = [\"id_hlasovani\",\"id_osoba\",\"mode\"]\n",
    "headers_hl_vazby = [\"id_hlasovani\",\"turn\",\"typ\"]\n",
    "headers_zmatecne = [\"id_hlasovani\"]\n",
    "\n",
    "\n",
    "# File paths and headers\n",
    "data =[\n",
    "[\"hl2021s\", headers_hl_hlasovani],\n",
    "[\"hl2021h1\", headers_hl_poslanec],\n",
    "[\"omluvy\", headers_omluvy],\n",
    "[\"hl2021s\", headers_hl_check],\n",
    "[\"hl2021x\", headers_hl_zposlanec],\n",
    "[\"hl2021v\",headers_hl_vazby],\n",
    "[\"zmatecne\", headers_zmatecne]\n",
    "]\n",
    "\n",
    "\n",
    "# Loop through the data list\n",
    "for name, headers in data:\n",
    "    file_path = f\"C:\\\\Users\\\\jirip\\\\Documents\\\\Developer\\\\python\\\\poslanecka_snemovna_cr\\\\DataPS\\\\hl-2021ps\\\\{name}.unl\"\n",
    "    print(f'loaded {name}')\n",
    "    # Load CSV file into DataFrame\n",
    "    data_frame = load_csv(file_path, headers)\n",
    "\n",
    "    # Perform operations on the DataFrame if needed\n",
    "\n",
    "    # Save the updated DataFrame to a new CSV file\n",
    "    save_csv(data_frame, f\"C:\\\\Users\\\\jirip\\\\Documents\\\\Developer\\\\python\\\\poslanecka_snemovna_cr\\\\DataPS\\\\hl-2021ps\\\\{name}_updated.csv\", headers)\n",
    "    print(f'saved {name}')\n"
   ]
  }
 ],
 "metadata": {
  "kernelspec": {
   "display_name": "Python 3",
   "language": "python",
   "name": "python3"
  },
  "language_info": {
   "codemirror_mode": {
    "name": "ipython",
    "version": 3
   },
   "file_extension": ".py",
   "mimetype": "text/x-python",
   "name": "python",
   "nbconvert_exporter": "python",
   "pygments_lexer": "ipython3",
   "version": "3.12.1"
  }
 },
 "nbformat": 4,
 "nbformat_minor": 2
}
