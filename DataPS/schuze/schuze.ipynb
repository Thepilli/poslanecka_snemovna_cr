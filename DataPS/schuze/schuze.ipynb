{
 "cells": [
  {
   "cell_type": "code",
   "execution_count": null,
   "metadata": {},
   "outputs": [],
   "source": [
    "import pandas as pd\n",
    "    \n",
    "# Specify the file path of the CSV file\n",
    "file_path_schuze = \"C:\\\\Users\\\\jirip\\\\Documents\\\\Developer\\\\python\\\\poslanecka_snemovna_cr\\\\DataPS\\\\schuze\\\\schuze.unl\"\n",
    "\n",
    "# Specify the custom headers\n",
    "headers_schuze = [\"id_schuze\",\"id_org\",\"schuze_num\",\"od_schuze\",\"do_schuze\",\"aktualizace\",\"pozvanka\"]\n",
    "\n",
    "# Load the CSV file with Windows-1250 encoding and custom headers\n",
    "df = pd.read_csv(file_path_schuze, encoding=\"windows-1250\", sep=\"|\", header=None, names=headers_schuze,index_col=False)\n"
   ]
  },
  {
   "cell_type": "code",
   "execution_count": 1,
   "metadata": {},
   "outputs": [],
   "source": [
    "headers_schuze_stav = [\"id_schuze\",\"stav\",\"typ\",\"text_dt\",\"text_st\",\"tm_line\"]\n",
    "headers_bod_stav = [\"id_bod_stav\",\"popis\"]\n",
    "headers_bod_schuze = [\"id_bod\",\"id_schuze\",\"id_tisk\",\"id_typ\",\"bod\",\"uplny_naz\",\"uplny_kon\",\"poznamka\",\"id_bod_stav\",\"pozvanka\",\"rj\",\"pozn2\",\"druh_bodu\",\"id_sd\",\"zkratka\"]\n",
    "headers_schuze = [\"id_schuze\",\"id_org\",\"schuze_num\",\"od_schuze\",\"do_schuze\",\"aktualizace\",\"pozvanka\"]\n"
   ]
  },
  {
   "cell_type": "code",
   "execution_count": null,
   "metadata": {},
   "outputs": [],
   "source": [
    "data = [\n",
    "[\"schuze_stav\",headers_schuze_stav],\n",
    "[\"bod_stav\",headers_bod_stav],\n",
    "[\"bod_schuze\",headers_bod_schuze],\n",
    "[\"schuze\",headers_schuze]\n",
    "]"
   ]
  },
  {
   "cell_type": "code",
   "execution_count": 2,
   "metadata": {},
   "outputs": [
    {
     "name": "stdout",
     "output_type": "stream",
     "text": [
      "loaded schuze_stav\n",
      "saved schuze_stav\n",
      "loaded bod_stav\n",
      "saved bod_stav\n",
      "loaded bod_schuze\n",
      "saved bod_schuze\n",
      "loaded schuze\n",
      "saved schuze\n"
     ]
    }
   ],
   "source": [
    "import pandas as pd\n",
    "\n",
    "# Function to load CSV files into DataFrames\n",
    "def load_csv(file_path, headers):\n",
    "    return pd.read_csv(file_path, encoding=\"windows-1250\", sep=\"|\", header=None, names=headers, index_col=False,low_memory=False)\n",
    "\n",
    "# Function to save DataFrame to a new CSV file\n",
    "def save_csv(data_frame, file_path, headers):\n",
    "    data_frame.to_csv(file_path, header=headers, index=False)\n",
    "\n",
    "headers_schuze_stav = [\"id_schuze\",\"stav\",\"typ\",\"text_dt\",\"text_st\",\"tm_line\"]\n",
    "headers_bod_stav = [\"id_bod_stav\",\"popis\"]\n",
    "headers_bod_schuze = [\"id_bod\",\"id_schuze\",\"id_tisk\",\"id_typ\",\"bod\",\"uplny_naz\",\"uplny_kon\",\"poznamka\",\"id_bod_stav\",\"pozvanka\",\"rj\",\"pozn2\",\"druh_bodu\",\"id_sd\",\"zkratka\"]\n",
    "headers_schuze = [\"id_schuze\",\"id_org\",\"schuze_num\",\"od_schuze\",\"do_schuze\",\"aktualizace\",\"pozvanka\"]\n",
    "\n",
    "\n",
    "# File paths and headers\n",
    "data = [\n",
    "[\"schuze_stav\",headers_schuze_stav],\n",
    "[\"bod_stav\",headers_bod_stav],\n",
    "[\"bod_schuze\",headers_bod_schuze],\n",
    "[\"schuze\",headers_schuze]\n",
    "]\n",
    "\n",
    "# Loop through the data list\n",
    "for name, headers in data:\n",
    "    file_path = f\"C:\\\\Users\\\\jirip\\\\Documents\\\\Developer\\\\python\\\\poslanecka_snemovna_cr\\\\DataPS\\\\schuze\\\\{name}.unl\"\n",
    "    print(f'loaded {name}')\n",
    "    # Load CSV file into DataFrame\n",
    "    data_frame = load_csv(file_path, headers)\n",
    "\n",
    "    # Perform operations on the DataFrame if needed\n",
    "\n",
    "    # Save the updated DataFrame to a new CSV file\n",
    "    save_csv(data_frame, f\"C:\\\\Users\\\\jirip\\\\Documents\\\\Developer\\\\python\\\\poslanecka_snemovna_cr\\\\DataPS\\\\schuze\\\\{name}_updated.csv\", headers)\n",
    "    print(f'saved {name}')\n"
   ]
  }
 ],
 "metadata": {
  "kernelspec": {
   "display_name": "Python 3",
   "language": "python",
   "name": "python3"
  },
  "language_info": {
   "codemirror_mode": {
    "name": "ipython",
    "version": 3
   },
   "file_extension": ".py",
   "mimetype": "text/x-python",
   "name": "python",
   "nbconvert_exporter": "python",
   "pygments_lexer": "ipython3",
   "version": "3.12.1"
  }
 },
 "nbformat": 4,
 "nbformat_minor": 2
}
