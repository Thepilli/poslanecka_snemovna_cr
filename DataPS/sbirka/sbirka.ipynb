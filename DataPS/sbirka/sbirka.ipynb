{
 "cells": [
  {
   "cell_type": "code",
   "execution_count": null,
   "metadata": {},
   "outputs": [],
   "source": [
    "import pandas as pd\n",
    "    \n",
    "# Specify the file path of the CSV file\n",
    "file_path_druh_predpisu = \"C:\\\\Users\\\\jirip\\\\Documents\\\\Developer\\\\python\\\\poslanecka_snemovna_cr\\\\DataPS\\\\sbirka\\\\druh_predpisu.unl\"\n",
    "\n",
    "# Specify the custom headers\n",
    "headers_druh_predpisu = [\"id_dp\",\"nazev_druhu\",\"priorita\"]\n",
    "\n",
    "# Load the CSV file with Windows-1250 encoding and custom headers\n",
    "df = pd.read_csv(file_path_druh_predpisu, encoding=\"windows-1250\", sep=\"|\", header=None, names=headers_druh_predpisu,index_col=False)\n"
   ]
  },
  {
   "cell_type": "code",
   "execution_count": 2,
   "metadata": {},
   "outputs": [],
   "source": [
    "headers_sbirka = [\"id_sbirka\",\"cislo\",\"rok\",\"id_dp\",\"id_tisk\",\"datum\",\"castka\"]\n",
    "headers_sb_pre = [\"id_tisk\",\"cz\",\"id_sbirka\",\"typ\",\"zdroj\",\"xzdroj\"]\n",
    "headers_druh_predpisu = [\"id_dp\",\"nazev_druhu\",\"priorita\"]\n"
   ]
  },
  {
   "cell_type": "code",
   "execution_count": null,
   "metadata": {},
   "outputs": [],
   "source": [
    "data =[\n",
    "[\"sbirka\",headers_sbirka],\n",
    "[\"sb_pre\",headers_sb_pre],\n",
    "[\"druh_predpisu\",headers_druh_predpisu],\n",
    "]"
   ]
  },
  {
   "cell_type": "code",
   "execution_count": 3,
   "metadata": {},
   "outputs": [
    {
     "name": "stdout",
     "output_type": "stream",
     "text": [
      "loaded sbirka\n",
      "saved sbirka\n",
      "loaded sb_pre\n",
      "saved sb_pre\n",
      "loaded druh_predpisu\n",
      "saved druh_predpisu\n"
     ]
    },
    {
     "name": "stderr",
     "output_type": "stream",
     "text": [
      "C:\\Users\\jirip\\AppData\\Local\\Temp\\ipykernel_6208\\3056172258.py:5: ParserWarning: Length of header or names does not match length of data. This leads to a loss of data with index_col=False.\n",
      "  return pd.read_csv(file_path, encoding=\"windows-1250\", sep=\"|\", header=None, names=headers, index_col=False,low_memory=False)\n"
     ]
    }
   ],
   "source": [
    "import pandas as pd\n",
    "\n",
    "# Function to load CSV files into DataFrames\n",
    "def load_csv(file_path, headers):\n",
    "    return pd.read_csv(file_path, encoding=\"windows-1250\", sep=\"|\", header=None, names=headers, index_col=False,low_memory=False)\n",
    "\n",
    "# Function to save DataFrame to a new CSV file\n",
    "def save_csv(data_frame, file_path, headers):\n",
    "    data_frame.to_csv(file_path, header=headers, index=False)\n",
    "\n",
    "headers_sbirka = [\"id_sbirka\",\"cislo\",\"rok\",\"id_dp\",\"id_tisk\",\"datum\",\"castka\"]\n",
    "headers_sb_pre = [\"id_tisk\",\"cz\",\"id_sbirka\",\"typ\",\"zdroj\",\"xzdroj\"]\n",
    "headers_druh_predpisu = [\"id_dp\",\"nazev_druhu\",\"priorita\"]\n",
    "\n",
    "# File paths and headers\n",
    "data =[\n",
    "[\"sbirka\",headers_sbirka],\n",
    "[\"sb_pre\",headers_sb_pre],\n",
    "[\"druh_predpisu\",headers_druh_predpisu],\n",
    "]\n",
    "\n",
    "# Loop through the data list\n",
    "for name, headers in data:\n",
    "    file_path = f\"C:\\\\Users\\\\jirip\\\\Documents\\\\Developer\\\\python\\\\poslanecka_snemovna_cr\\\\DataPS\\\\sbirka\\\\{name}.unl\"\n",
    "    print(f'loaded {name}')\n",
    "    # Load CSV file into DataFrame\n",
    "    data_frame = load_csv(file_path, headers)\n",
    "\n",
    "    # Perform operations on the DataFrame if needed\n",
    "\n",
    "    # Save the updated DataFrame to a new CSV file\n",
    "    save_csv(data_frame, f\"C:\\\\Users\\\\jirip\\\\Documents\\\\Developer\\\\python\\\\poslanecka_snemovna_cr\\\\DataPS\\\\sbirka\\\\{name}_updated.csv\", headers)\n",
    "    print(f'saved {name}')\n"
   ]
  }
 ],
 "metadata": {
  "kernelspec": {
   "display_name": "Python 3",
   "language": "python",
   "name": "python3"
  },
  "language_info": {
   "codemirror_mode": {
    "name": "ipython",
    "version": 3
   },
   "file_extension": ".py",
   "mimetype": "text/x-python",
   "name": "python",
   "nbconvert_exporter": "python",
   "pygments_lexer": "ipython3",
   "version": "3.12.1"
  }
 },
 "nbformat": 4,
 "nbformat_minor": 2
}
