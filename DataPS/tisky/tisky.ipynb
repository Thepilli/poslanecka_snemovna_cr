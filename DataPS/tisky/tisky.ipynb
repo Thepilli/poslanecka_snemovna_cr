{
 "cells": [
  {
   "cell_type": "code",
   "execution_count": null,
   "metadata": {},
   "outputs": [],
   "source": [
    "import pandas as pd\n",
    "    \n",
    "# Specify the file path of the CSV file\n",
    "file_path_druh_tisku = \"C:\\\\Users\\\\jirip\\\\Documents\\\\Developer\\\\python\\\\poslanecka_snemovna_cr\\\\DataPS\\\\tisky\\\\druh_tisku.unl\"\n",
    "\n",
    "# Specify the custom headers\n",
    "headers_druh_tisku = [\"id_druh\",\"druh_t\",\"nazev_druh\"]\n",
    "\n",
    "# Load the CSV file with Windows-1250 encoding and custom headers\n",
    "df = pd.read_csv(file_path_druh_tisku, encoding=\"windows-1250\", sep=\"|\", header=None, names=headers_druh_tisku,index_col=False)\n"
   ]
  },
  {
   "cell_type": "code",
   "execution_count": 16,
   "metadata": {},
   "outputs": [],
   "source": [
    "import pandas as pd\n",
    "    \n",
    "# Specify the file path of the CSV file\n",
    "file_path_sd = \"C:\\\\Users\\\\jirip\\\\Documents\\\\Developer\\\\python\\\\poslanecka_snemovna_cr\\\\DataPS\\\\tisky\\\\tisky_za.unl\"\n",
    "\n",
    "# Specify the custom headers\n",
    "headers_tisky_za = [\"id_tisk\",\"cislo_za\",\"id_hist\",\"id_druh\",\"nazev_za\",\"uplny_nazev_za\",\"rozeslano\",\"id_org\",\"usn_vybor\",\"id_posl\",\"t_url\",\"id_vysledek\",\"cislo_za_post\",\"sort_it\",\"roz\",\"status\"]\n",
    "\n",
    "# Load the CSV file with Windows-1250 encoding and custom headers\n",
    "df = pd.read_csv(file_path_sd, encoding=\"utf-8\", sep=\"|\", header=None, names=headers_tisky_za,index_col=False)\n",
    "\n",
    "df.to_csv(\"C:\\\\Users\\\\jirip\\\\Documents\\\\Developer\\\\python\\\\poslanecka_snemovna_cr\\\\DataPS\\\\tisky\\\\tisky_za.csv\", header=headers_tisky_za, index=False)"
   ]
  },
  {
   "cell_type": "code",
   "execution_count": null,
   "metadata": {},
   "outputs": [],
   "source": [
    "headers_typ_zakon = [\"id_navrh\",\"druh_navrhovatele\"]\n",
    "headers_typ_stavu = [\"id_typ\",\"popis_stavu\"]\n",
    "headers_stavy = [\"id_stav\",\"id_typ\",\"id_druh\",\"popis\",\"lhuta\",\"lhuta_where\"]\n",
    "headers_typ_akce = [\"id_akce\",\"popis_akce\"]\n",
    "headers_prechody = [\"id_prechod\",\"odkud\",\"kam\",\"id_akce\",\"typ_prechodu\"]\n",
    "headers_tisky = [\"id_tisk\",\"id_druh\",\"id_stav\",\"ct\",\"cislo_za\",\"id_navrh\",\"id_org\",\"id_org_obd\",\"id_osoba\",\"navrhovatel\",\"nazev_tisku\",\"predlozeno\",\"rozeslano\",\"dal\",\"tech_nos_dat\",\"uplny_nazev_tisku\",\"zm_lhuty\",\"lhuta\",\"rj\",\"t_url\",\"is_eu\",\"roz\",\"is_sdv\",\"status\"]\n",
    "headers_hist = [\"id_hist\",\"id_tisk\",\"datum\",\"id_hlas\",\"id_prechod\",\"id_bod\",\"schuze\",\"usnes_ps\",\"orgv_id_posl\",\"ps_id_posl\",\"orgv_p_usn\",\"zaver_publik\",\"zaver_sb_castka\",\"zaver_sb_cislo\",\"poznamka\"]\n",
    "headers_hist_vybory = [\"id_tisku\",\"id_organ\",\"typ\",\"id_hist\",\"id_posl\",\"poradi\"]\n",
    "headers_vysledek = [\"id_vysledek\",\"druh_vysledek\"]\n",
    "headers_tisky_za = [\"id_tisk\",\"cislo_za\",\"id_hist\",\"id_druh\",\"nazev_za\",\"nazev_za\",\"uplny_nazev_za\",\"rozeslano\",\"id_org\",\"usn_vybor\",\"id_posl\",\"t_url\",\"cislo_za_post\",\"sort_it\",\"roz\",\"status\"]\n",
    "headers_predkladatel = [\"id_tisk\",\"id_osoba\",\"poradi\",\"typ\"]\n",
    "headers_navrh_podpis = [\"id_tisk\",\"id_osoba\",\"stav\",\"datum\"]\n",
    "headers_druh_tisku = [\"id_druh\",\"druh_t\",\"nazev_druh\"]\n",
    "\n"
   ]
  },
  {
   "cell_type": "code",
   "execution_count": null,
   "metadata": {},
   "outputs": [],
   "source": [
    "data =[\n",
    "[\"druh_tisku\",headers_druh_tisku],\n",
    "[\"typ_zakon\",headers_typ_zakon],\n",
    "[\"typ_stavu\",headers_typ_stavu],\n",
    "[\"stavy\",headers_stavy],\n",
    "[\"typ_akce\",headers_typ_akce],\n",
    "[\"prechody\",headers_prechody],\n",
    "[\"tisky\",headers_tisky],\n",
    "[\"hist\",headers_hist],\n",
    "[\"hist_vybory\",headers_hist_vybory],\n",
    "[\"vysledek\",headers_vysledek],\n",
    "[\"tisky_za\",headers_tisky_za],\n",
    "[\"predkladatel\",headers_predkladatel],\n",
    "[\"navrh_podpis\",headers_navrh_podpis]\n",
    "]"
   ]
  },
  {
   "cell_type": "code",
   "execution_count": 3,
   "metadata": {},
   "outputs": [
    {
     "name": "stdout",
     "output_type": "stream",
     "text": [
      "loaded druh_tisku\n",
      "saved druh_tisku\n",
      "loaded typ_zakon\n",
      "saved typ_zakon\n",
      "loaded typ_stavu\n",
      "saved typ_stavu\n",
      "loaded stavy\n",
      "saved stavy\n",
      "loaded typ_akce\n",
      "saved typ_akce\n",
      "loaded prechody\n",
      "saved prechody\n",
      "loaded hist\n",
      "saved hist\n",
      "loaded hist_vybory\n",
      "saved hist_vybory\n",
      "loaded vysledek\n",
      "saved vysledek\n",
      "loaded predkladatel\n",
      "saved predkladatel\n"
     ]
    }
   ],
   "source": [
    "import pandas as pd\n",
    "\n",
    "# Function to load CSV files into DataFrames\n",
    "def load_csv(file_path, headers):\n",
    "    return pd.read_csv(file_path, encoding=\"windows-1250\", sep=\"|\", header=None, names=headers, index_col=False,low_memory=False)\n",
    "\n",
    "# Function to save DataFrame to a new CSV file\n",
    "def save_csv(data_frame, file_path, headers):\n",
    "    data_frame.to_csv(file_path, header=headers, index=False)\n",
    "\n",
    "# File paths and headers\n",
    "data = [\n",
    "    [\"druh_tisku\", [\"id_druh\", \"druh_t\", \"nazev_druh\"]],\n",
    "    [\"typ_zakon\", [\"id_navrh\", \"druh_navrhovatele\"]],\n",
    "    [\"typ_stavu\", [\"id_typ\", \"popis_stavu\"]],\n",
    "    [\"stavy\", [\"id_stav\", \"id_typ\", \"id_druh\", \"popis\", \"lhuta\", \"lhuta_where\"]],\n",
    "    [\"typ_akce\", [\"id_akce\", \"popis_akce\"]],\n",
    "    [\"prechody\", [\"id_prechod\", \"odkud\", \"kam\", \"id_akce\", \"typ_prechodu\"]],\n",
    "    # [\"tisky\", [\"id_tisk\", \"id_druh\", \"id_stav\", \"ct\", \"cislo_za\", \"id_navrh\", \"id_org\", \"id_org_obd\", \"id_osoba\", \"navrhovatel\", \"nazev_tisku\", \"predlozeno\", \"rozeslano\", \"dal\", \"tech_nos_dat\", \"uplny_nazev_tisku\", \"zm_lhuty\", \"lhuta\", \"rj\", \"t_url\", \"is_eu\", \"roz\", \"is_sdv\", \"status\"]],\n",
    "    [\"hist\", [\"id_hist\", \"id_tisk\", \"datum\", \"id_hlas\", \"id_prechod\", \"id_bod\", \"schuze\", \"usnes_ps\", \"orgv_id_posl\", \"ps_id_posl\", \"orgv_p_usn\", \"zaver_publik\", \"zaver_sb_castka\", \"zaver_sb_cislo\", \"poznamka\"]],\n",
    "    [\"hist_vybory\", [\"id_tisku\", \"id_organ\", \"typ\", \"id_hist\", \"id_posl\", \"poradi\"]],\n",
    "    [\"vysledek\", [\"id_vysledek\", \"druh_vysledek\"]],\n",
    "    # [\"tisky_za\", [\"id_tisk\", \"cislo_za\", \"id_hist\", \"id_druh\", \"nazev_za\", \"nazev_za\", \"uplny_nazev_za\", \"rozeslano\", \"id_org\", \"usn_vybor\", \"id_posl\", \"t_url\", \"cislo_za_post\", \"sort_it\", \"roz\", \"status\"]],\n",
    "    [\"predkladatel\", [\"id_tisk\", \"id_osoba\", \"poradi\", \"typ\"]],\n",
    "    # [\"navrh_podpis\", [\"id_tisk\", \"id_osoba\", \"stav\", \"datum\"]]\n",
    "]\n",
    "\n",
    "# Loop through the data list\n",
    "for name, headers in data:\n",
    "    file_path = f\"C:\\\\Users\\\\jirip\\\\Documents\\\\Developer\\\\python\\\\poslanecka_snemovna_cr\\\\DataPS\\\\tisky\\\\{name}.unl\"\n",
    "    print(f'loaded {name}')\n",
    "    # Load CSV file into DataFrame\n",
    "    data_frame = load_csv(file_path, headers)\n",
    "\n",
    "    # Perform operations on the DataFrame if needed\n",
    "\n",
    "    # Save the updated DataFrame to a new CSV file\n",
    "    save_csv(data_frame, f\"C:\\\\Users\\\\jirip\\\\Documents\\\\Developer\\\\python\\\\poslanecka_snemovna_cr\\\\DataPS\\\\tisky\\\\{name}_updated.csv\", headers)\n",
    "    print(f'saved {name}')\n"
   ]
  }
 ],
 "metadata": {
  "kernelspec": {
   "display_name": "Python 3",
   "language": "python",
   "name": "python3"
  },
  "language_info": {
   "codemirror_mode": {
    "name": "ipython",
    "version": 3
   },
   "file_extension": ".py",
   "mimetype": "text/x-python",
   "name": "python",
   "nbconvert_exporter": "python",
   "pygments_lexer": "ipython3",
   "version": "3.12.1"
  }
 },
 "nbformat": 4,
 "nbformat_minor": 2
}
