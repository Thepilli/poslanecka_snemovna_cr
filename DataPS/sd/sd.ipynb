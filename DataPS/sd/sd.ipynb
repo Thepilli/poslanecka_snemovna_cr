{
 "cells": [
  {
   "cell_type": "code",
   "execution_count": 5,
   "metadata": {},
   "outputs": [],
   "source": [
    "import pandas as pd\n",
    "    \n",
    "# Specify the file path of the CSV file\n",
    "file_path_sd = \"C:\\\\Users\\\\jirip\\\\Documents\\\\Developer\\\\python\\\\poslanecka_snemovna_cr\\\\DataPS\\\\sd\\\\sd_dokument.unl\"\n",
    "\n",
    "# Specify the custom headers\n",
    "headers_sd = [\"id_dokument\",\"id_obdobi\",\"cislo\",\"typ\",\"nazev\",\"predkladatel\",\"ct\",\"id_x\",\"end\"]\n",
    "\n",
    "# Load the CSV file with Windows-1250 encoding and custom headers\n",
    "df = pd.read_csv(file_path_sd, encoding=\"windows-1250\", sep=\"|\", header=None, names=headers_sd,index_col=False)\n",
    "\n",
    "df.to_csv(\"C:\\\\Users\\\\jirip\\\\Documents\\\\Developer\\\\python\\\\poslanecka_snemovna_cr\\\\DataPS\\\\sd\\\\sd_dokument.csv\", header=headers_sd, index=False)"
   ]
  }
 ],
 "metadata": {
  "kernelspec": {
   "display_name": "Python 3",
   "language": "python",
   "name": "python3"
  },
  "language_info": {
   "codemirror_mode": {
    "name": "ipython",
    "version": 3
   },
   "file_extension": ".py",
   "mimetype": "text/x-python",
   "name": "python",
   "nbconvert_exporter": "python",
   "pygments_lexer": "ipython3",
   "version": "3.12.1"
  }
 },
 "nbformat": 4,
 "nbformat_minor": 2
}
