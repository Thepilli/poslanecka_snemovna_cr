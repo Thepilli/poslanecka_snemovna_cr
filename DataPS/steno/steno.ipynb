{
 "cells": [
  {
   "cell_type": "code",
   "execution_count": null,
   "metadata": {},
   "outputs": [],
   "source": [
    "import pandas as pd\n",
    "    \n",
    "# Specify the file path of the CSV file\n",
    "file_path_steno = \"C:\\\\Users\\\\jirip\\\\Documents\\\\Developer\\\\python\\\\poslanecka_snemovna_cr\\\\DataPS\\\\steno\\\\steno.unl\"\n",
    "\n",
    "# Specify the custom headers\n",
    "headers_steno = [\"id_steno\",\"id_org\",\"schuze\",\"turn\",\"od_steno\",\"jd\",\"od_t\",\"do_t\"]\n",
    "\n",
    "# Load the CSV file with Windows-1250 encoding and custom headers\n",
    "df = pd.read_csv(file_path_steno, encoding=\"windows-1250\", sep=\"|\", header=None, names=headers_steno,index_col=False)\n"
   ]
  },
  {
   "cell_type": "code",
   "execution_count": 2,
   "metadata": {},
   "outputs": [],
   "source": [
    "headers_steno_bod = [\"id_steno\",\"aname\",\"id_bod\"]\n",
    "headers_rec = [\"id_steno\",\"id_osoba\",\"aname\",\"id_bod\",\"druh\"]\n",
    "headers_steno = [\"id_steno\",\"id_org\",\"schuze\",\"turn\",\"od_steno\",\"jd\",\"od_t\",\"do_t\"]\n"
   ]
  },
  {
   "cell_type": "code",
   "execution_count": null,
   "metadata": {},
   "outputs": [],
   "source": [
    "data = [\n",
    "[\"headers_steno_bod\" ,headers_steno_bod] ,\n",
    "[\"headers_rec\" ,headers_rec] ,\n",
    "[\"headers_steno\" ,headers_steno] \n",
    "]"
   ]
  },
  {
   "cell_type": "code",
   "execution_count": 5,
   "metadata": {},
   "outputs": [
    {
     "name": "stdout",
     "output_type": "stream",
     "text": [
      "loaded steno_bod\n",
      "saved steno_bod\n",
      "loaded rec\n",
      "saved rec\n",
      "loaded steno\n",
      "saved steno\n"
     ]
    }
   ],
   "source": [
    "import pandas as pd\n",
    "\n",
    "# Function to load CSV files into DataFrames\n",
    "def load_csv(file_path, headers):\n",
    "    return pd.read_csv(file_path, encoding=\"windows-1250\", sep=\"|\", header=None, names=headers, index_col=False,low_memory=False)\n",
    "\n",
    "# Function to save DataFrame to a new CSV file\n",
    "def save_csv(data_frame, file_path, headers):\n",
    "    data_frame.to_csv(file_path, header=headers, index=False)\n",
    "\n",
    "\n",
    "headers_steno_bod = [\"id_steno\",\"aname\",\"id_bod\"]\n",
    "headers_rec = [\"id_steno\",\"id_osoba\",\"aname\",\"id_bod\",\"druh\"]\n",
    "headers_steno = [\"id_steno\",\"id_org\",\"schuze\",\"turn\",\"od_steno\",\"jd\",\"od_t\",\"do_t\"]\n",
    "\n",
    "\n",
    "\n",
    "# File paths and headers\n",
    "data = [\n",
    "[\"steno_bod\" ,headers_steno_bod] ,\n",
    "[\"rec\" ,headers_rec] ,\n",
    "[\"steno\" ,headers_steno] \n",
    "]\n",
    "\n",
    "# Loop through the data list\n",
    "for name, headers in data:\n",
    "    file_path = f\"C:\\\\Users\\\\jirip\\\\Documents\\\\Developer\\\\python\\\\poslanecka_snemovna_cr\\\\DataPS\\\\steno\\\\{name}.unl\"\n",
    "    print(f'loaded {name}')\n",
    "    # Load CSV file into DataFrame\n",
    "    data_frame = load_csv(file_path, headers)\n",
    "\n",
    "    # Perform operations on the DataFrame if needed\n",
    "\n",
    "    # Save the updated DataFrame to a new CSV file\n",
    "    save_csv(data_frame, f\"C:\\\\Users\\\\jirip\\\\Documents\\\\Developer\\\\python\\\\poslanecka_snemovna_cr\\\\DataPS\\\\steno\\\\{name}_updated.csv\", headers)\n",
    "    print(f'saved {name}')\n"
   ]
  }
 ],
 "metadata": {
  "kernelspec": {
   "display_name": "Python 3",
   "language": "python",
   "name": "python3"
  },
  "language_info": {
   "codemirror_mode": {
    "name": "ipython",
    "version": 3
   },
   "file_extension": ".py",
   "mimetype": "text/x-python",
   "name": "python",
   "nbconvert_exporter": "python",
   "pygments_lexer": "ipython3",
   "version": "3.12.1"
  }
 },
 "nbformat": 4,
 "nbformat_minor": 2
}
